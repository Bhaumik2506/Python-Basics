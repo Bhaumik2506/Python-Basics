{
 "cells": [
  {
   "cell_type": "markdown",
   "metadata": {},
   "source": [
    "# Python Basics Questions\n",
    "\n",
    "###  Q.1 What is Python, and why is it popular ?\n",
    "Answer - Python is a high-level, general-purpose programming language designed to be easy to read and maintain, emphasizing code readability with the use of significant indentation.\n",
    "\n",
    "Python's popularity can be attributed to several factors, including its simple syntax and ease of use, large and active community and extensive standard library.\n",
    "Its clean, readable syntax makes it highly accessible for beginners while remaining powerful for experienced developers.\n",
    "Additionally, Python's versatility has expanded into various sectors such as web development, data analysis, artificial intelligence, and the Internet of Things.\n",
    " Python's rapid development capabilities and library support are particularly valuable for startups, enabling them to bring products to market quickly.\n",
    "### Q.2 What is an interpreter in Python ?\n",
    "Answer - An interpreter in Python is a program that reads the source code of a program as written by the programmer, parses the source code, and interprets the instructions on the fly.\n",
    "\n",
    "This means that Python code is executed line by line, allowing for an interactive conversation where you can type a line of Python and get immediate results.\n",
    "### Q.3 What are pre-defined keywords in Python ?\n",
    "Answer - In Python, keywords are predefined words that have specific, pre-defined meanings and roles in the language's syntax. These keywords cannot be used as variable names, function names, or any other identifiers.\n",
    "\n",
    "They are case-sensitive and their meanings are fixed, meaning they cannot be altered by the user.\n",
    "### Q.4 Can keywords be used as variable names ?\n",
    "Answer -  Keywords in Python cannot be used as variable names because they are reserved words that have special meanings and purposes in the language.\n",
    "\n",
    "These reserved words are used to define the syntax and structure of Python programs, and using them as variable names would cause syntax errors.\n",
    "### Q.5 What is mutability in Python ?\n",
    "Answer - In Python, mutability refers to the ability of an object to change its state or content after it has been created. Mutable objects, such as lists and dictionaries, can be modified in place, allowing you to change, add, or remove elements without creating a new object.\n",
    "### Q.6 Why are lists mutable, but tuples are immutable ?\n",
    "Answer - In Python, lists are mutable, allowing their contents to be changed, added to, or removed from after creation. This flexibility makes lists suitable for scenarios where data modification is necessary. Tuples, on the other hand, are immutable, meaning their contents cannot be altered once they are created. This immutability ensures data integrity and makes tuples ideal for storing fixed data sets.\n",
    "### Q.7 What is the difference between “==” and “is” operators in Python ?\n",
    "Answer - In Python, the == operator and the is operator serve distinct purposes. The == operator checks for equality of values, meaning it evaluates whether the values of two objects are the same.\n",
    "\n",
    "On the other hand, the is operator checks for identity, determining whether two variables point to the same object in memory.\n",
    "This means that is will return True if two variables both refer to the same object in memory, whereas == will evaluate to True if the two objects have the same value.\n",
    "### Q.8 What are logical operators in Python ?\n",
    "Answer - Logical operators in Python are special keywords used to form compound Boolean expressions. They evaluate multiple conditions and determine the overall truth value of an expression. The three logical operators are \"and\", \"or\", and \"not\". They must be in lowercase.\n",
    "\n",
    "The \"and\" operator returns True if both statements are true. For example, x < 5 and x < 10 will return True only if both conditions are met.\n",
    "\n",
    "The \"or\" operator returns True if at least one of the statements is true. For example, x < 5 or x < 4 will return True if either condition is met.\n",
    "\n",
    "The \"not\" operator reverses the result, returning False if the result is true. For example, not (x < 5) will return True if x is not less than 5.\n",
    "### Q.9 What is type casting in Python ?\n",
    "Answer - Type casting, also known as type conversion, is the process of changing the data type of a variable from one type to another in Python.\n",
    " This can be done either implicitly (automatically) or explicitly (manually) by the programmer.\n",
    " Implicit casting occurs automatically when the system handles the conversion without the programmer's intervention, generally converting a \"smaller\" data type to a \"larger\" one to prevent data loss.\n",
    " Explicit casting requires the programmer to explicitly specify the type conversion, often involving converting a \"larger\" data type to a \"smaller\" one.\n",
    " Python supports various functions for type casting, such as int(), float(), str(), tuple(), list(), set(), and dict().\n",
    "### Q.10 What is the difference between implicit and explicit type casting ?\n",
    "\n",
    "Answer - Type casting, also known as type conversion, is the process of changing the data type of a variable from one type to another in Python.\n",
    "This can be done either implicitly (automatically) or explicitly (manually) by the programmer.\n",
    " \n",
    "Implicit casting occurs automatically when the system handles the conversion without the programmer's intervention, generally converting a \"smaller\" data type to a \"larger\" one to prevent data loss.\n",
    "\n",
    "Explicit casting requires the programmer to explicitly specify the type conversion, often involving converting a \"larger\" data type to a \"smaller\" one.\n",
    " Python supports various functions for type casting, such as int(), float(), str(), tuple(), list(), set(), and dict().\n",
    "### Q.11 What is the purpose of conditional statements in Python ?\n",
    "Answer - Conditional statements in Python are used to execute specific blocks of code based on the truth value of a condition, allowing the program to behave differently in different situations.\n",
    "\n",
    "These statements help control the flow of a program, enabling dynamic decision-making by executing certain blocks of code only if specific conditions are true or false.\n",
    "\n",
    "Common conditional statements include if, elif (else if), and else, which allow for branching in programming, making it possible to handle different outcomes depending on the input or state of the program.\n",
    "### Q.12 How does the elif statement work ?\n",
    "Answer - In Python, the elif statement is used in conditional statements to check for multiple conditions sequentially. If the first condition is false, elif moves on to the next condition to check if that condition is true. If none of the conditions are true, the code will execute the else statement.\n",
    "\n",
    "This structure allows for more complex logic and decision-making in Python programs by enabling the evaluation of multiple conditions in a sequence.\n",
    "### Q.13 What is the difference between for and while loops ?\n",
    "Answer - The primary difference between for and while loops lies in their initialization and control mechanisms. \n",
    "\n",
    "For loops are typically used when the number of iterations is known in advance, and they integrate initialization, condition checking, and iteration within a single structure, making them more structured and often more readable for fixed-size iterations.\n",
    "\n",
    "While loops, on the other hand, are more flexible and are used when the number of iterations is not known beforehand or when the loop's continuation depends on a condition that may change during execution.\n",
    "\n",
    "In summary, for loops are ideal for situations where the number of iterations is predetermined, while while loops are more appropriate for scenarios where the loop's continuation is determined by a condition that may change dynamically.\n",
    "### Q.14 Describe a scenario where a while loop is more suitable than a for loop.\n",
    "Answer - \n",
    "### Scenario: Simulating a Bank ATM Withdrawal Process\n",
    "Imagine a scenario where a user is trying to withdraw money from an ATM. The withdrawal process should continue until the user enters a valid amount that does not exceed their account balance. Since we don’t know in advance how many times the user will enter an invalid amount, a while loop is more suitable than a for loop.\n",
    "\n",
    "account_balance = 5000  # User's initial bank balance\n",
    "\n",
    "while True:\n",
    "    withdrawal_amount = float(input(\"Enter the amount to withdraw: \"))\n",
    "\n",
    "    if withdrawal_amount > account_balance:\n",
    "        print(\"Insufficient balance! Please enter a smaller amount.\")\n",
    "    elif withdrawal_amount <= 0:\n",
    "        print(\"Invalid amount! Please enter a positive value.\")\n",
    "    else:\n",
    "        account_balance -= withdrawal_amount\n",
    "        print(f\"Withdrawal successful! Remaining balance: {account_balance}\")\n",
    "        break  # Exit the loop after a successful transaction\n",
    "\n",
    "### Why Use a while Loop Here?\n",
    "\n",
    "1.The number of invalid attempts is unknown—the user might take multiple tries before entering a valid amount.\n",
    "\n",
    "2.The loop should continue until the user provides a valid input.\n",
    "\n",
    "3.A for loop is not ideal because we don’t have a fixed number of iterations.\n",
    "\n",
    "### How It Works:\n",
    "The loop runs indefinitely (while True) until a valid withdrawal amount is entered.\n",
    "\n",
    "1.If the user enters an amount greater than the balance, an error message is displayed, and they are prompted again.\n",
    "\n",
    "2.If the user enters a negative or zero amount, another error message is displayed.\n",
    "\n",
    "3.Once a valid amount is entered, the balance is updated, a success message is shown, and the loop exits using break.\n",
    "\n"
   ]
  },
  {
   "cell_type": "markdown",
   "metadata": {},
   "source": [
    "### Practical Questions"
   ]
  },
  {
   "cell_type": "code",
   "execution_count": null,
   "metadata": {},
   "outputs": [
    {
     "name": "stdout",
     "output_type": "stream",
     "text": [
      "Hello, World!\n"
     ]
    }
   ],
   "source": [
    "# Q.1 Write a Python program to print \"Hello, World!\"\n",
    "print(\"Hello, World!\")"
   ]
  },
  {
   "cell_type": "code",
   "execution_count": 10,
   "metadata": {},
   "outputs": [
    {
     "name": "stdout",
     "output_type": "stream",
     "text": [
      "Bhaumik\n",
      "22\n"
     ]
    }
   ],
   "source": [
    "# Q.2 Write a Python program that displays your name and age.\n",
    "name = \"Bhaumik\"\n",
    "age = 22\n",
    "print(name)\n",
    "print(age)\n"
   ]
  },
  {
   "cell_type": "code",
   "execution_count": 12,
   "metadata": {},
   "outputs": [
    {
     "name": "stdout",
     "output_type": "stream",
     "text": [
      "['False', 'None', 'True', 'and', 'as', 'assert', 'async', 'await', 'break', 'class', 'continue', 'def', 'del', 'elif', 'else', 'except', 'finally', 'for', 'from', 'global', 'if', 'import', 'in', 'is', 'lambda', 'nonlocal', 'not', 'or', 'pass', 'raise', 'return', 'try', 'while', 'with', 'yield']\n"
     ]
    }
   ],
   "source": [
    "# Q.3 Write code to print all the pre-defined keywords in Python using the keyword library.\n",
    "import keyword\n",
    "print(keyword.kwlist)"
   ]
  },
  {
   "cell_type": "code",
   "execution_count": 15,
   "metadata": {},
   "outputs": [
    {
     "name": "stdout",
     "output_type": "stream",
     "text": [
      "True\n"
     ]
    }
   ],
   "source": [
    "# Q.4 Write a program that checks if a given word is a Python keyword.\n",
    "import keyword\n",
    "word = (\"def\")\n",
    "print(keyword.iskeyword(word))\n",
    "\n"
   ]
  },
  {
   "cell_type": "code",
   "execution_count": 7,
   "metadata": {},
   "outputs": [
    {
     "name": "stdout",
     "output_type": "stream",
     "text": [
      "Updated list: [1, 2, 10, 4, 5]\n",
      "Error when trying to change tuple element: 'tuple' object does not support item assignment\n"
     ]
    }
   ],
   "source": [
    "# Q.5 Create a list and tuple in Python, and demonstrate how attempting to change an element works differently for each.\n",
    "\n",
    "# Creating a list\n",
    "my_list = [1, 2, 3, 4, 5]\n",
    "\n",
    "# Attempting to change an element\n",
    "my_list[2] = 10\n",
    "\n",
    "print(\"Updated list:\", my_list)\n",
    "\n",
    "# Creating a tuple\n",
    "my_tuple = (1, 2, 3, 4, 5)\n",
    "\n",
    "# Attempting to change an element (this will raise an error)\n",
    "try:\n",
    "    my_tuple[2] = 10\n",
    "except TypeError as e:\n",
    "    print(\"Error when trying to change tuple element:\", e)\n"
   ]
  },
  {
   "cell_type": "code",
   "execution_count": 17,
   "metadata": {},
   "outputs": [
    {
     "name": "stdout",
     "output_type": "stream",
     "text": [
      "Mutable: [1, 2, 3, 10]\n",
      "Immutable: 20\n"
     ]
    }
   ],
   "source": [
    "# Q.6 Write a function to demonstrate the behavior of mutable and immutable arguments.\n",
    "\n",
    "def demo_mutable_immutable(mutable, immutable):\n",
    "    # Modify mutable\n",
    "    mutable.append(10)\n",
    "    \n",
    "    # Try to modify immutable\n",
    "    immutable = 20\n",
    "    \n",
    "    print(\"Mutable:\", mutable)\n",
    "    print(\"Immutable:\", immutable)\n",
    "\n",
    "# Test with a list (mutable) and an integer (immutable)\n",
    "my_list = [1, 2, 3]\n",
    "my_number = 5\n",
    "\n",
    "demo_mutable_immutable(my_list, my_number)\n"
   ]
  },
  {
   "cell_type": "code",
   "execution_count": 18,
   "metadata": {},
   "outputs": [
    {
     "name": "stdout",
     "output_type": "stream",
     "text": [
      "Mutable: [1, 2, 3, 10]\n",
      "Immutable: 20\n"
     ]
    }
   ],
   "source": [
    "# Q.7 Write a function to demonstrate the behavior of mutable and immutable arguments.\n",
    "def demo_mutable_immutable(mutable, immutable):\n",
    "    # Modify mutable\n",
    "    mutable.append(10)\n",
    "    \n",
    "    # Try to modify immutable\n",
    "    immutable = 20\n",
    "    \n",
    "    print(\"Mutable:\", mutable)\n",
    "    print(\"Immutable:\", immutable)\n",
    "\n",
    "# Test with a list (mutable) and an integer (immutable)\n",
    "my_list = [1, 2, 3]\n",
    "my_number = 5\n",
    "\n",
    "demo_mutable_immutable(my_list, my_number)"
   ]
  },
  {
   "cell_type": "code",
   "execution_count": null,
   "metadata": {},
   "outputs": [
    {
     "name": "stdout",
     "output_type": "stream",
     "text": [
      "False\n",
      "True\n",
      "False\n"
     ]
    }
   ],
   "source": [
    "# Q.8  Write a program to demonstrate the use of logical operators.\n",
    "# Using logical operators\n",
    "a = True\n",
    "b = False\n",
    "\n",
    "print(a and b)  # and operator\n",
    "print(a or b)   # or operator\n",
    "print(not a)    # not operator\n"
   ]
  },
  {
   "cell_type": "code",
   "execution_count": 34,
   "metadata": {},
   "outputs": [
    {
     "name": "stdout",
     "output_type": "stream",
     "text": [
      "<class 'str'>\n",
      "<class 'int'>\n",
      "<class 'float'>\n",
      "<class 'bool'>\n"
     ]
    }
   ],
   "source": [
    "# Q.9 Write a Python program to convert user input from string to integer, float, and boolean type.\n",
    "input_1 = input()\n",
    "print(type(input_1)) # Accepts input from user as String\n",
    "\n",
    "input_1 = int(input_1)\n",
    "print(type(input_1)) # converts input to integer\n",
    "\n",
    "input_1 = float(input_1)\n",
    "print(type(input_1)) # converts input to float\n",
    "\n",
    "input_1 = bool(input_1)\n",
    "print(type(input_1)) # converts input to boolean"
   ]
  },
  {
   "cell_type": "code",
   "execution_count": null,
   "metadata": {},
   "outputs": [
    {
     "name": "stdout",
     "output_type": "stream",
     "text": [
      "[1, 2, 3]\n"
     ]
    }
   ],
   "source": [
    "# Q.10 Write code to demonstrate type casting with list elements.\n",
    "\n",
    "my_list = [\"1\", \"2\", \"3\"] # elements as strings\n",
    "\n",
    "# Convert strings to integers\n",
    "\n",
    "for index in range(len(my_list)):\n",
    "\n",
    "    my_list[index] = int(my_list[index])\n",
    "\n",
    "print(my_list)\n"
   ]
  },
  {
   "cell_type": "code",
   "execution_count": 42,
   "metadata": {},
   "outputs": [
    {
     "name": "stdout",
     "output_type": "stream",
     "text": [
      "The number is positive.\n"
     ]
    }
   ],
   "source": [
    "# Q.11 Write a program that checks if a number is positive, negative, or zero.\n",
    "num = float(input(\"Enter a number: \"))\n",
    "\n",
    "if num > 0:\n",
    "    print(\"The number is positive.\")\n",
    "elif num < 0:\n",
    "    print(\"The number is negative.\")\n",
    "else:\n",
    "    print(\"The number is zero.\")"
   ]
  },
  {
   "cell_type": "code",
   "execution_count": 1,
   "metadata": {},
   "outputs": [
    {
     "name": "stdout",
     "output_type": "stream",
     "text": [
      "1 2 3 4 5 6 7 8 9 10 "
     ]
    }
   ],
   "source": [
    "# Q.12  Write a for loop to print numbers from 1 to 10.\n",
    "\n",
    "for i in range(1, 11):\n",
    "    print(i, end=\" \")\n"
   ]
  },
  {
   "cell_type": "code",
   "execution_count": 6,
   "metadata": {},
   "outputs": [
    {
     "name": "stdout",
     "output_type": "stream",
     "text": [
      "650\n"
     ]
    }
   ],
   "source": [
    "# Q.13 Write a Python program to find the sum of all even numbers between 1 and 50.\n",
    "\n",
    "Sum_of_even_num = 0\n",
    "\n",
    "for i in range(1,51):\n",
    "    if i % 2 == 0:\n",
    "       Sum_of_even_num += i\n",
    "print(Sum_of_even_num)\n",
    "\n"
   ]
  },
  {
   "cell_type": "code",
   "execution_count": null,
   "metadata": {},
   "outputs": [
    {
     "name": "stdout",
     "output_type": "stream",
     "text": [
      "kimuahB\n"
     ]
    }
   ],
   "source": [
    "# Q.14 Write a program to reverse a string using a while loop.\n",
    "\n",
    "name = \"Bhaumik\"\n",
    "reverse_name = \"\"\n",
    "\n",
    "index = len(name) - 1\n",
    "\n",
    "while index >= 0:\n",
    "    reverse_name += name[index] \n",
    "    index -= 1  # Decrease the index to move to the previous character\n",
    "\n",
    "# Print the reversed string\n",
    "print(reverse_name)"
   ]
  },
  {
   "cell_type": "code",
   "execution_count": 4,
   "metadata": {},
   "outputs": [
    {
     "name": "stdout",
     "output_type": "stream",
     "text": [
      "120\n"
     ]
    }
   ],
   "source": [
    "# Q.15  Write a Python program to calculate the factorial of a number provided by the user using a while loop.\n",
    "\n",
    "num = int(input(\"Enter a number\"))\n",
    "\n",
    "N1 = 1\n",
    "\n",
    "while num > 1:\n",
    "    N1 *= num\n",
    "    num -= 1\n",
    "\n",
    "print(N1)\n"
   ]
  }
 ],
 "metadata": {
  "kernelspec": {
   "display_name": "Python 3",
   "language": "python",
   "name": "python3"
  },
  "language_info": {
   "codemirror_mode": {
    "name": "ipython",
    "version": 3
   },
   "file_extension": ".py",
   "mimetype": "text/x-python",
   "name": "python",
   "nbconvert_exporter": "python",
   "pygments_lexer": "ipython3",
   "version": "3.13.2"
  }
 },
 "nbformat": 4,
 "nbformat_minor": 2
}
